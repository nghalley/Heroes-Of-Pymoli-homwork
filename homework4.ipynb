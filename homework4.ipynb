{
 "cells": [
  {
   "cell_type": "markdown",
   "metadata": {},
   "source": [
    "### Heroes Of Pymoli Data Analysis\n",
    "* Of the 1163 active players, the vast majority are male (84%). There also exists, a smaller, but notable proportion of female players (14%).\n",
    "\n",
    "* Our peak age demographic falls between 20-24 (44.8%) with secondary groups falling between 15-19 (18.60%) and 25-29 (13.4%).  \n",
    "-----"
   ]
  },
  {
   "cell_type": "markdown",
   "metadata": {},
   "source": [
    "### Note\n",
    "* Instructions have been included for each segment. You do not have to follow them exactly, but they are included to help you think through the steps."
   ]
  },
  {
   "cell_type": "code",
   "execution_count": 1,
   "metadata": {},
   "outputs": [],
   "source": [
    "# Dependencies and Setup\n",
    "import pandas as pd\n",
    "import numpy as np\n",
    "\n",
    "# File to Load (Remember to Change These)\n",
    "file_to_load = \"Resources/purchase_data.json\"\n",
    "\n",
    "# Read Purchasing File and store into Pandas data frame\n",
    "purchase_data = pd.read_json(file_to_load)"
   ]
  },
  {
   "cell_type": "markdown",
   "metadata": {},
   "source": [
    "## Player Count"
   ]
  },
  {
   "cell_type": "markdown",
   "metadata": {},
   "source": [
    "* Display the total number of players\n"
   ]
  },
  {
   "cell_type": "code",
   "execution_count": 2,
   "metadata": {},
   "outputs": [
    {
     "data": {
      "text/html": [
       "<div>\n",
       "<style scoped>\n",
       "    .dataframe tbody tr th:only-of-type {\n",
       "        vertical-align: middle;\n",
       "    }\n",
       "\n",
       "    .dataframe tbody tr th {\n",
       "        vertical-align: top;\n",
       "    }\n",
       "\n",
       "    .dataframe thead th {\n",
       "        text-align: right;\n",
       "    }\n",
       "</style>\n",
       "<table border=\"1\" class=\"dataframe\">\n",
       "  <thead>\n",
       "    <tr style=\"text-align: right;\">\n",
       "      <th></th>\n",
       "      <th>Total Players</th>\n",
       "    </tr>\n",
       "  </thead>\n",
       "  <tbody>\n",
       "    <tr>\n",
       "      <th>0</th>\n",
       "      <td>573</td>\n",
       "    </tr>\n",
       "  </tbody>\n",
       "</table>\n",
       "</div>"
      ],
      "text/plain": [
       "   Total Players\n",
       "0            573"
      ]
     },
     "execution_count": 2,
     "metadata": {},
     "output_type": "execute_result"
    }
   ],
   "source": [
    "# Use the list of screen names \"SN\", for total players.\n",
    "total_players = len(purchase_data[\"SN\"].value_counts())\n",
    "\n",
    "player_count = pd.DataFrame({\"Total Players\":[total_players]})\n",
    "player_count"
   ]
  },
  {
   "cell_type": "markdown",
   "metadata": {},
   "source": [
    "## Purchasing Analysis (Total)"
   ]
  },
  {
   "cell_type": "markdown",
   "metadata": {},
   "source": [
    "* Run basic calculations to obtain number of unique items, average price, etc.\n",
    "\n",
    "\n",
    "* Create a summary data frame to hold the results\n",
    "\n",
    "\n",
    "* Optional: give the displayed data cleaner formatting\n",
    "\n",
    "\n",
    "* Display the summary data frame\n"
   ]
  },
  {
   "cell_type": "code",
   "execution_count": 3,
   "metadata": {
    "scrolled": true
   },
   "outputs": [
    {
     "data": {
      "text/html": [
       "<style  type=\"text/css\" >\n",
       "</style><table id=\"T_29123922_a5d4_11e9_ac27_105badb4dd80\" ><thead>    <tr>        <th class=\"blank level0\" ></th>        <th class=\"col_heading level0 col0\" >Number of Unique Items</th>        <th class=\"col_heading level0 col1\" >Average Price</th>        <th class=\"col_heading level0 col2\" >Number of Purchases</th>        <th class=\"col_heading level0 col3\" >Total Revenue</th>    </tr></thead><tbody>\n",
       "                <tr>\n",
       "                        <th id=\"T_29123922_a5d4_11e9_ac27_105badb4dd80level0_row0\" class=\"row_heading level0 row0\" >0</th>\n",
       "                        <td id=\"T_29123922_a5d4_11e9_ac27_105badb4dd80row0_col0\" class=\"data row0 col0\" >183</td>\n",
       "                        <td id=\"T_29123922_a5d4_11e9_ac27_105badb4dd80row0_col1\" class=\"data row0 col1\" >$2.93</td>\n",
       "                        <td id=\"T_29123922_a5d4_11e9_ac27_105badb4dd80row0_col2\" class=\"data row0 col2\" >Age          780\n",
       "Gender       780\n",
       "Item ID      780\n",
       "Item Name    780\n",
       "Price        780\n",
       "SN           780\n",
       "dtype: int64</td>\n",
       "                        <td id=\"T_29123922_a5d4_11e9_ac27_105badb4dd80row0_col3\" class=\"data row0 col3\" >$2,286.33</td>\n",
       "            </tr>\n",
       "    </tbody></table>"
      ],
      "text/plain": [
       "<pandas.io.formats.style.Styler at 0x2352a754160>"
      ]
     },
     "execution_count": 3,
     "metadata": {},
     "output_type": "execute_result"
    }
   ],
   "source": [
    "# Calculate the unique items, average price, purchase count, and revenue\n",
    "number_of_unique_items = len((purchase_data[\"Item ID\"]).unique())\n",
    "average_price = (purchase_data[\"Price\"]).mean()\n",
    "number_of_purchases = (purchase_data).count()\n",
    "total_revenue = (purchase_data[\"Price\"]).sum()\n",
    "\n",
    "summary_df = pd.DataFrame({\"Number of Unique Items\":[number_of_unique_items],\n",
    "                           \"Average Price\":[average_price], \n",
    "                           \"Number of Purchases\": [number_of_purchases], \n",
    "                           \"Total Revenue\": [total_revenue]})\n",
    "\n",
    "summary_df.style.format({'Average Price':\"${:,.2f}\",\n",
    "                         'Total Revenue': '${:,.2f}'})"
   ]
  },
  {
   "cell_type": "markdown",
   "metadata": {},
   "source": [
    "## Gender Demographics"
   ]
  },
  {
   "cell_type": "markdown",
   "metadata": {},
   "source": [
    "* Percentage and Count of Male Players\n",
    "\n",
    "\n",
    "* Percentage and Count of Female Players\n",
    "\n",
    "\n",
    "* Percentage and Count of Other / Non-Disclosed\n",
    "\n",
    "\n"
   ]
  },
  {
   "cell_type": "code",
   "execution_count": 4,
   "metadata": {},
   "outputs": [
    {
     "data": {
      "text/html": [
       "<style  type=\"text/css\" >\n",
       "</style><table id=\"T_291db42e_a5d4_11e9_b193_105badb4dd80\" ><thead>    <tr>        <th class=\"blank level0\" ></th>        <th class=\"col_heading level0 col0\" >Percentage of Players</th>        <th class=\"col_heading level0 col1\" >Total Count</th>    </tr></thead><tbody>\n",
       "                <tr>\n",
       "                        <th id=\"T_291db42e_a5d4_11e9_b193_105badb4dd80level0_row0\" class=\"row_heading level0 row0\" >Male</th>\n",
       "                        <td id=\"T_291db42e_a5d4_11e9_b193_105badb4dd80row0_col0\" class=\"data row0 col0\" >81.15</td>\n",
       "                        <td id=\"T_291db42e_a5d4_11e9_b193_105badb4dd80row0_col1\" class=\"data row0 col1\" >465</td>\n",
       "            </tr>\n",
       "            <tr>\n",
       "                        <th id=\"T_291db42e_a5d4_11e9_b193_105badb4dd80level0_row1\" class=\"row_heading level0 row1\" >Female</th>\n",
       "                        <td id=\"T_291db42e_a5d4_11e9_b193_105badb4dd80row1_col0\" class=\"data row1 col0\" >17.45</td>\n",
       "                        <td id=\"T_291db42e_a5d4_11e9_b193_105badb4dd80row1_col1\" class=\"data row1 col1\" >100</td>\n",
       "            </tr>\n",
       "            <tr>\n",
       "                        <th id=\"T_291db42e_a5d4_11e9_b193_105badb4dd80level0_row2\" class=\"row_heading level0 row2\" >Other / Non-Disclosed</th>\n",
       "                        <td id=\"T_291db42e_a5d4_11e9_b193_105badb4dd80row2_col0\" class=\"data row2 col0\" >1.40</td>\n",
       "                        <td id=\"T_291db42e_a5d4_11e9_b193_105badb4dd80row2_col1\" class=\"data row2 col1\" >8</td>\n",
       "            </tr>\n",
       "    </tbody></table>"
      ],
      "text/plain": [
       "<pandas.io.formats.style.Styler at 0x2352b528160>"
      ]
     },
     "execution_count": 4,
     "metadata": {},
     "output_type": "execute_result"
    }
   ],
   "source": [
    "gender_stats = purchase_data.groupby(\"Gender\")\n",
    "total_count_gender = gender_stats.nunique()[\"SN\"]\n",
    "\n",
    "percentage_of_players = total_count_gender / total_players * 100\n",
    "\n",
    "gender_demographics = pd.DataFrame({\"Percentage of Players\": percentage_of_players, \"Total Count\": total_count_gender})\n",
    "\n",
    "gender_demographics.index.name = None\n",
    "\n",
    "gender_demographics.sort_values([\"Total Count\"], ascending = False).style.format({\"Percentage of Players\":\"{:.2f}\"})"
   ]
  },
  {
   "cell_type": "markdown",
   "metadata": {},
   "source": [
    "\n",
    "## Purchasing Analysis (Gender)"
   ]
  },
  {
   "cell_type": "markdown",
   "metadata": {},
   "source": [
    "* Run basic calculations to obtain purchase count, avg. purchase price, avg. purchase total per person etc. by gender\n",
    "\n",
    "\n",
    "\n",
    "\n",
    "* Create a summary data frame to hold the results\n",
    "\n",
    "\n",
    "* Optional: give the displayed data cleaner formatting\n",
    "\n",
    "\n",
    "* Display the summary data frame"
   ]
  },
  {
   "cell_type": "code",
   "execution_count": 5,
   "metadata": {},
   "outputs": [
    {
     "data": {
      "text/html": [
       "<style  type=\"text/css\" >\n",
       "</style><table id=\"T_292332c2_a5d4_11e9_a279_105badb4dd80\" ><thead>    <tr>        <th class=\"blank level0\" ></th>        <th class=\"col_heading level0 col0\" >Purchase Count</th>        <th class=\"col_heading level0 col1\" >Average Purchase Price</th>        <th class=\"col_heading level0 col2\" >Average Purchase Value</th>        <th class=\"col_heading level0 col3\" >Avg Purchase Total per Person</th>    </tr>    <tr>        <th class=\"index_name level0\" >Gender</th>        <th class=\"blank\" ></th>        <th class=\"blank\" ></th>        <th class=\"blank\" ></th>        <th class=\"blank\" ></th>    </tr></thead><tbody>\n",
       "                <tr>\n",
       "                        <th id=\"T_292332c2_a5d4_11e9_a279_105badb4dd80level0_row0\" class=\"row_heading level0 row0\" >Female</th>\n",
       "                        <td id=\"T_292332c2_a5d4_11e9_a279_105badb4dd80row0_col0\" class=\"data row0 col0\" >136</td>\n",
       "                        <td id=\"T_292332c2_a5d4_11e9_a279_105badb4dd80row0_col1\" class=\"data row0 col1\" >$2.82</td>\n",
       "                        <td id=\"T_292332c2_a5d4_11e9_a279_105badb4dd80row0_col2\" class=\"data row0 col2\" >$382.91</td>\n",
       "                        <td id=\"T_292332c2_a5d4_11e9_a279_105badb4dd80row0_col3\" class=\"data row0 col3\" >$3.83</td>\n",
       "            </tr>\n",
       "            <tr>\n",
       "                        <th id=\"T_292332c2_a5d4_11e9_a279_105badb4dd80level0_row1\" class=\"row_heading level0 row1\" >Male</th>\n",
       "                        <td id=\"T_292332c2_a5d4_11e9_a279_105badb4dd80row1_col0\" class=\"data row1 col0\" >633</td>\n",
       "                        <td id=\"T_292332c2_a5d4_11e9_a279_105badb4dd80row1_col1\" class=\"data row1 col1\" >$2.95</td>\n",
       "                        <td id=\"T_292332c2_a5d4_11e9_a279_105badb4dd80row1_col2\" class=\"data row1 col2\" >$1,867.68</td>\n",
       "                        <td id=\"T_292332c2_a5d4_11e9_a279_105badb4dd80row1_col3\" class=\"data row1 col3\" >$4.02</td>\n",
       "            </tr>\n",
       "            <tr>\n",
       "                        <th id=\"T_292332c2_a5d4_11e9_a279_105badb4dd80level0_row2\" class=\"row_heading level0 row2\" >Other / Non-Disclosed</th>\n",
       "                        <td id=\"T_292332c2_a5d4_11e9_a279_105badb4dd80row2_col0\" class=\"data row2 col0\" >11</td>\n",
       "                        <td id=\"T_292332c2_a5d4_11e9_a279_105badb4dd80row2_col1\" class=\"data row2 col1\" >$3.25</td>\n",
       "                        <td id=\"T_292332c2_a5d4_11e9_a279_105badb4dd80row2_col2\" class=\"data row2 col2\" >$35.74</td>\n",
       "                        <td id=\"T_292332c2_a5d4_11e9_a279_105badb4dd80row2_col3\" class=\"data row2 col3\" >$4.47</td>\n",
       "            </tr>\n",
       "    </tbody></table>"
      ],
      "text/plain": [
       "<pandas.io.formats.style.Styler at 0x2352b533e10>"
      ]
     },
     "execution_count": 5,
     "metadata": {},
     "output_type": "execute_result"
    }
   ],
   "source": [
    "purchase_count = gender_stats[\"Item ID\"].count\n",
    "avg_purchase_price = gender_stats[\"Price\"].mean()\n",
    "\n",
    "avg_purchase_total = gender_stats[\"Price\"].sum()\n",
    "\n",
    "avg_purchase_per_person = avg_purchase_total/total_count_gender\n",
    "\n",
    "gender_demographics = pd.DataFrame({\"Purchase Count\": purchase_count, \n",
    "                                    \"Average Purchase Price\": avg_purchase_price,\n",
    "                                    \"Average Purchase Value\":avg_purchase_total,\n",
    "                                    \"Avg Purchase Total per Person\": avg_purchase_per_person})\n",
    "\n",
    "gender_demographics.index.name = \"Gender\"\n",
    "\n",
    "gender_demographics.style.format({\"Average Purchase Value\":\"${:,.2f}\",\n",
    "                                  \"Average Purchase Price\":\"${:,.2f}\",\n",
    "                                  \"Avg Purchase Total per Person\":\"${:,.2f}\"})"
   ]
  },
  {
   "cell_type": "markdown",
   "metadata": {},
   "source": [
    "## Age Demographics"
   ]
  },
  {
   "cell_type": "markdown",
   "metadata": {},
   "source": [
    "* Establish bins for ages\n",
    "\n",
    "\n",
    "* Categorize the existing players using the age bins. Hint: use pd.cut()\n",
    "\n",
    "\n",
    "* Calculate the numbers and percentages by age group\n",
    "\n",
    "\n",
    "* Create a summary data frame to hold the results\n",
    "\n",
    "\n",
    "* Optional: round the percentage column to two decimal points\n",
    "\n",
    "\n",
    "* Display Age Demographics Table\n"
   ]
  },
  {
   "cell_type": "code",
   "execution_count": 6,
   "metadata": {},
   "outputs": [
    {
     "data": {
      "text/html": [
       "<style  type=\"text/css\" >\n",
       "</style><table id=\"T_2929ea00_a5d4_11e9_a707_105badb4dd80\" ><thead>    <tr>        <th class=\"blank level0\" ></th>        <th class=\"col_heading level0 col0\" >Percentage of Players</th>        <th class=\"col_heading level0 col1\" >Total Count</th>    </tr></thead><tbody>\n",
       "                <tr>\n",
       "                        <th id=\"T_2929ea00_a5d4_11e9_a707_105badb4dd80level0_row0\" class=\"row_heading level0 row0\" ><10</th>\n",
       "                        <td id=\"T_2929ea00_a5d4_11e9_a707_105badb4dd80row0_col0\" class=\"data row0 col0\" >3.32</td>\n",
       "                        <td id=\"T_2929ea00_a5d4_11e9_a707_105badb4dd80row0_col1\" class=\"data row0 col1\" >19</td>\n",
       "            </tr>\n",
       "            <tr>\n",
       "                        <th id=\"T_2929ea00_a5d4_11e9_a707_105badb4dd80level0_row1\" class=\"row_heading level0 row1\" >10-14</th>\n",
       "                        <td id=\"T_2929ea00_a5d4_11e9_a707_105badb4dd80row1_col0\" class=\"data row1 col0\" >4.01</td>\n",
       "                        <td id=\"T_2929ea00_a5d4_11e9_a707_105badb4dd80row1_col1\" class=\"data row1 col1\" >23</td>\n",
       "            </tr>\n",
       "            <tr>\n",
       "                        <th id=\"T_2929ea00_a5d4_11e9_a707_105badb4dd80level0_row2\" class=\"row_heading level0 row2\" >15-19</th>\n",
       "                        <td id=\"T_2929ea00_a5d4_11e9_a707_105badb4dd80row2_col0\" class=\"data row2 col0\" >17.45</td>\n",
       "                        <td id=\"T_2929ea00_a5d4_11e9_a707_105badb4dd80row2_col1\" class=\"data row2 col1\" >100</td>\n",
       "            </tr>\n",
       "            <tr>\n",
       "                        <th id=\"T_2929ea00_a5d4_11e9_a707_105badb4dd80level0_row3\" class=\"row_heading level0 row3\" >20-24</th>\n",
       "                        <td id=\"T_2929ea00_a5d4_11e9_a707_105badb4dd80row3_col0\" class=\"data row3 col0\" >45.20</td>\n",
       "                        <td id=\"T_2929ea00_a5d4_11e9_a707_105badb4dd80row3_col1\" class=\"data row3 col1\" >259</td>\n",
       "            </tr>\n",
       "            <tr>\n",
       "                        <th id=\"T_2929ea00_a5d4_11e9_a707_105badb4dd80level0_row4\" class=\"row_heading level0 row4\" >25-29</th>\n",
       "                        <td id=\"T_2929ea00_a5d4_11e9_a707_105badb4dd80row4_col0\" class=\"data row4 col0\" >15.18</td>\n",
       "                        <td id=\"T_2929ea00_a5d4_11e9_a707_105badb4dd80row4_col1\" class=\"data row4 col1\" >87</td>\n",
       "            </tr>\n",
       "            <tr>\n",
       "                        <th id=\"T_2929ea00_a5d4_11e9_a707_105badb4dd80level0_row5\" class=\"row_heading level0 row5\" >30-34</th>\n",
       "                        <td id=\"T_2929ea00_a5d4_11e9_a707_105badb4dd80row5_col0\" class=\"data row5 col0\" >8.20</td>\n",
       "                        <td id=\"T_2929ea00_a5d4_11e9_a707_105badb4dd80row5_col1\" class=\"data row5 col1\" >47</td>\n",
       "            </tr>\n",
       "            <tr>\n",
       "                        <th id=\"T_2929ea00_a5d4_11e9_a707_105badb4dd80level0_row6\" class=\"row_heading level0 row6\" >35-39</th>\n",
       "                        <td id=\"T_2929ea00_a5d4_11e9_a707_105badb4dd80row6_col0\" class=\"data row6 col0\" >4.71</td>\n",
       "                        <td id=\"T_2929ea00_a5d4_11e9_a707_105badb4dd80row6_col1\" class=\"data row6 col1\" >27</td>\n",
       "            </tr>\n",
       "            <tr>\n",
       "                        <th id=\"T_2929ea00_a5d4_11e9_a707_105badb4dd80level0_row7\" class=\"row_heading level0 row7\" >40+</th>\n",
       "                        <td id=\"T_2929ea00_a5d4_11e9_a707_105badb4dd80row7_col0\" class=\"data row7 col0\" >1.92</td>\n",
       "                        <td id=\"T_2929ea00_a5d4_11e9_a707_105badb4dd80row7_col1\" class=\"data row7 col1\" >11</td>\n",
       "            </tr>\n",
       "    </tbody></table>"
      ],
      "text/plain": [
       "<pandas.io.formats.style.Styler at 0x2352b5771d0>"
      ]
     },
     "execution_count": 6,
     "metadata": {},
     "output_type": "execute_result"
    }
   ],
   "source": [
    "# set bins for ages\n",
    "age_bins = [0, 9.90, 14.90, 19.90, 24.90, 29.90, 34.90, 39.90, 99999]\n",
    "group_names = [\"<10\", \"10-14\", \"15-19\", \"20-24\", \"25-29\", \"30-34\", \"35-39\", \"40+\"]\n",
    "\n",
    "purchase_data[\"Age Group\"] = pd.cut(purchase_data[\"Age\"],age_bins, labels=group_names)\n",
    "purchase_data\n",
    "\n",
    "age_grouped = purchase_data.groupby(\"Age Group\")\n",
    "\n",
    "total_count_age = age_grouped[\"SN\"].nunique()\n",
    "\n",
    "percentage_by_age = (total_count_age/total_players) * 100\n",
    "\n",
    "age_demographics = pd.DataFrame({\"Percentage of Players\": percentage_by_age, \"Total Count\": total_count_age})\n",
    "\n",
    "age_demographics.index.name = None\n",
    "age_demographics.style.format({\"Percentage of Players\":\"{:,.2f}\"})"
   ]
  },
  {
   "cell_type": "markdown",
   "metadata": {},
   "source": [
    "## Purchasing Analysis (Age)"
   ]
  },
  {
   "cell_type": "markdown",
   "metadata": {},
   "source": [
    "* Bin the purchase_data data frame by age\n",
    "\n",
    "\n",
    "* Run basic calculations to obtain purchase count, avg. purchase price, avg. purchase total per person etc. in the table below\n",
    "\n",
    "\n",
    "* Create a summary data frame to hold the results\n",
    "\n",
    "\n",
    "* Optional: give the displayed data cleaner formatting\n",
    "\n",
    "\n",
    "* Display the summary data frame"
   ]
  },
  {
   "cell_type": "code",
   "execution_count": 7,
   "metadata": {},
   "outputs": [
    {
     "data": {
      "text/html": [
       "<style  type=\"text/css\" >\n",
       "</style><table id=\"T_292f6866_a5d4_11e9_8a82_105badb4dd80\" ><thead>    <tr>        <th class=\"blank level0\" ></th>        <th class=\"col_heading level0 col0\" >Purchase Count</th>        <th class=\"col_heading level0 col1\" >Average Purchase Price</th>        <th class=\"col_heading level0 col2\" >Total Purchase Value</th>        <th class=\"col_heading level0 col3\" >Average Purchase Total per Person</th>    </tr></thead><tbody>\n",
       "                <tr>\n",
       "                        <th id=\"T_292f6866_a5d4_11e9_8a82_105badb4dd80level0_row0\" class=\"row_heading level0 row0\" ><10</th>\n",
       "                        <td id=\"T_292f6866_a5d4_11e9_8a82_105badb4dd80row0_col0\" class=\"data row0 col0\" >28</td>\n",
       "                        <td id=\"T_292f6866_a5d4_11e9_8a82_105badb4dd80row0_col1\" class=\"data row0 col1\" >$2.98</td>\n",
       "                        <td id=\"T_292f6866_a5d4_11e9_8a82_105badb4dd80row0_col2\" class=\"data row0 col2\" >$83.46</td>\n",
       "                        <td id=\"T_292f6866_a5d4_11e9_8a82_105badb4dd80row0_col3\" class=\"data row0 col3\" >$4.39</td>\n",
       "            </tr>\n",
       "            <tr>\n",
       "                        <th id=\"T_292f6866_a5d4_11e9_8a82_105badb4dd80level0_row1\" class=\"row_heading level0 row1\" >10-14</th>\n",
       "                        <td id=\"T_292f6866_a5d4_11e9_8a82_105badb4dd80row1_col0\" class=\"data row1 col0\" >35</td>\n",
       "                        <td id=\"T_292f6866_a5d4_11e9_8a82_105badb4dd80row1_col1\" class=\"data row1 col1\" >$2.77</td>\n",
       "                        <td id=\"T_292f6866_a5d4_11e9_8a82_105badb4dd80row1_col2\" class=\"data row1 col2\" >$96.95</td>\n",
       "                        <td id=\"T_292f6866_a5d4_11e9_8a82_105badb4dd80row1_col3\" class=\"data row1 col3\" >$4.22</td>\n",
       "            </tr>\n",
       "            <tr>\n",
       "                        <th id=\"T_292f6866_a5d4_11e9_8a82_105badb4dd80level0_row2\" class=\"row_heading level0 row2\" >15-19</th>\n",
       "                        <td id=\"T_292f6866_a5d4_11e9_8a82_105badb4dd80row2_col0\" class=\"data row2 col0\" >133</td>\n",
       "                        <td id=\"T_292f6866_a5d4_11e9_8a82_105badb4dd80row2_col1\" class=\"data row2 col1\" >$2.91</td>\n",
       "                        <td id=\"T_292f6866_a5d4_11e9_8a82_105badb4dd80row2_col2\" class=\"data row2 col2\" >$386.42</td>\n",
       "                        <td id=\"T_292f6866_a5d4_11e9_8a82_105badb4dd80row2_col3\" class=\"data row2 col3\" >$3.86</td>\n",
       "            </tr>\n",
       "            <tr>\n",
       "                        <th id=\"T_292f6866_a5d4_11e9_8a82_105badb4dd80level0_row3\" class=\"row_heading level0 row3\" >20-24</th>\n",
       "                        <td id=\"T_292f6866_a5d4_11e9_8a82_105badb4dd80row3_col0\" class=\"data row3 col0\" >336</td>\n",
       "                        <td id=\"T_292f6866_a5d4_11e9_8a82_105badb4dd80row3_col1\" class=\"data row3 col1\" >$2.91</td>\n",
       "                        <td id=\"T_292f6866_a5d4_11e9_8a82_105badb4dd80row3_col2\" class=\"data row3 col2\" >$978.77</td>\n",
       "                        <td id=\"T_292f6866_a5d4_11e9_8a82_105badb4dd80row3_col3\" class=\"data row3 col3\" >$3.78</td>\n",
       "            </tr>\n",
       "            <tr>\n",
       "                        <th id=\"T_292f6866_a5d4_11e9_8a82_105badb4dd80level0_row4\" class=\"row_heading level0 row4\" >25-29</th>\n",
       "                        <td id=\"T_292f6866_a5d4_11e9_8a82_105badb4dd80row4_col0\" class=\"data row4 col0\" >125</td>\n",
       "                        <td id=\"T_292f6866_a5d4_11e9_8a82_105badb4dd80row4_col1\" class=\"data row4 col1\" >$2.96</td>\n",
       "                        <td id=\"T_292f6866_a5d4_11e9_8a82_105badb4dd80row4_col2\" class=\"data row4 col2\" >$370.33</td>\n",
       "                        <td id=\"T_292f6866_a5d4_11e9_8a82_105badb4dd80row4_col3\" class=\"data row4 col3\" >$4.26</td>\n",
       "            </tr>\n",
       "            <tr>\n",
       "                        <th id=\"T_292f6866_a5d4_11e9_8a82_105badb4dd80level0_row5\" class=\"row_heading level0 row5\" >30-34</th>\n",
       "                        <td id=\"T_292f6866_a5d4_11e9_8a82_105badb4dd80row5_col0\" class=\"data row5 col0\" >64</td>\n",
       "                        <td id=\"T_292f6866_a5d4_11e9_8a82_105badb4dd80row5_col1\" class=\"data row5 col1\" >$3.08</td>\n",
       "                        <td id=\"T_292f6866_a5d4_11e9_8a82_105badb4dd80row5_col2\" class=\"data row5 col2\" >$197.25</td>\n",
       "                        <td id=\"T_292f6866_a5d4_11e9_8a82_105badb4dd80row5_col3\" class=\"data row5 col3\" >$4.20</td>\n",
       "            </tr>\n",
       "            <tr>\n",
       "                        <th id=\"T_292f6866_a5d4_11e9_8a82_105badb4dd80level0_row6\" class=\"row_heading level0 row6\" >35-39</th>\n",
       "                        <td id=\"T_292f6866_a5d4_11e9_8a82_105badb4dd80row6_col0\" class=\"data row6 col0\" >42</td>\n",
       "                        <td id=\"T_292f6866_a5d4_11e9_8a82_105badb4dd80row6_col1\" class=\"data row6 col1\" >$2.84</td>\n",
       "                        <td id=\"T_292f6866_a5d4_11e9_8a82_105badb4dd80row6_col2\" class=\"data row6 col2\" >$119.40</td>\n",
       "                        <td id=\"T_292f6866_a5d4_11e9_8a82_105badb4dd80row6_col3\" class=\"data row6 col3\" >$4.42</td>\n",
       "            </tr>\n",
       "            <tr>\n",
       "                        <th id=\"T_292f6866_a5d4_11e9_8a82_105badb4dd80level0_row7\" class=\"row_heading level0 row7\" >40+</th>\n",
       "                        <td id=\"T_292f6866_a5d4_11e9_8a82_105badb4dd80row7_col0\" class=\"data row7 col0\" >17</td>\n",
       "                        <td id=\"T_292f6866_a5d4_11e9_8a82_105badb4dd80row7_col1\" class=\"data row7 col1\" >$3.16</td>\n",
       "                        <td id=\"T_292f6866_a5d4_11e9_8a82_105badb4dd80row7_col2\" class=\"data row7 col2\" >$53.75</td>\n",
       "                        <td id=\"T_292f6866_a5d4_11e9_8a82_105badb4dd80row7_col3\" class=\"data row7 col3\" >$4.89</td>\n",
       "            </tr>\n",
       "    </tbody></table>"
      ],
      "text/plain": [
       "<pandas.io.formats.style.Styler at 0x2352b577160>"
      ]
     },
     "execution_count": 7,
     "metadata": {},
     "output_type": "execute_result"
    }
   ],
   "source": [
    "purchase_count_age = age_grouped[\"Item ID\"].count()\n",
    "\n",
    "avg_purchase_price_age = age_grouped[\"Price\"].mean()\n",
    "\n",
    "total_purchase_value = age_grouped[\"Price\"].sum()\n",
    "\n",
    "avg_purchase_per_person_age = total_purchase_value/total_count_age\n",
    "\n",
    "age_demographics = pd.DataFrame({\"Purchase Count\": purchase_count_age,\n",
    "                                 \"Average Purchase Price\": avg_purchase_price_age,\n",
    "                                 \"Total Purchase Value\":total_purchase_value,\n",
    "                                 \"Average Purchase Total per Person\": avg_purchase_per_person_age})\n",
    "\n",
    "age_demographics.index.name = None\n",
    "\n",
    "age_demographics.style.format({\"Average Purchase Price\":\"${:,.2f}\",\n",
    "                               \"Total Purchase Value\":\"${:,.2f}\",\n",
    "                               \"Average Purchase Total per Person\":\"${:,.2f}\"})"
   ]
  },
  {
   "cell_type": "markdown",
   "metadata": {},
   "source": [
    "## Top Spenders"
   ]
  },
  {
   "cell_type": "markdown",
   "metadata": {},
   "source": [
    "* Run basic calculations to obtain the results in the table below\n",
    "\n",
    "\n",
    "* Create a summary data frame to hold the results\n",
    "\n",
    "\n",
    "* Sort the total purchase value column in descending order\n",
    "\n",
    "\n",
    "* Optional: give the displayed data cleaner formatting\n",
    "\n",
    "\n",
    "* Display a preview of the summary data frame\n",
    "\n"
   ]
  },
  {
   "cell_type": "code",
   "execution_count": 8,
   "metadata": {},
   "outputs": [
    {
     "data": {
      "text/html": [
       "<style  type=\"text/css\" >\n",
       "</style><table id=\"T_29375828_a5d4_11e9_84d6_105badb4dd80\" ><thead>    <tr>        <th class=\"blank level0\" ></th>        <th class=\"col_heading level0 col0\" >Purchase Count</th>        <th class=\"col_heading level0 col1\" >Average Purchase Price</th>        <th class=\"col_heading level0 col2\" >Total Purchase Value</th>    </tr>    <tr>        <th class=\"index_name level0\" >SN</th>        <th class=\"blank\" ></th>        <th class=\"blank\" ></th>        <th class=\"blank\" ></th>    </tr></thead><tbody>\n",
       "                <tr>\n",
       "                        <th id=\"T_29375828_a5d4_11e9_84d6_105badb4dd80level0_row0\" class=\"row_heading level0 row0\" >Undirrala66</th>\n",
       "                        <td id=\"T_29375828_a5d4_11e9_84d6_105badb4dd80row0_col0\" class=\"data row0 col0\" >5</td>\n",
       "                        <td id=\"T_29375828_a5d4_11e9_84d6_105badb4dd80row0_col1\" class=\"data row0 col1\" >$3.41</td>\n",
       "                        <td id=\"T_29375828_a5d4_11e9_84d6_105badb4dd80row0_col2\" class=\"data row0 col2\" >$17.06</td>\n",
       "            </tr>\n",
       "            <tr>\n",
       "                        <th id=\"T_29375828_a5d4_11e9_84d6_105badb4dd80level0_row1\" class=\"row_heading level0 row1\" >Saedue76</th>\n",
       "                        <td id=\"T_29375828_a5d4_11e9_84d6_105badb4dd80row1_col0\" class=\"data row1 col0\" >4</td>\n",
       "                        <td id=\"T_29375828_a5d4_11e9_84d6_105badb4dd80row1_col1\" class=\"data row1 col1\" >$3.39</td>\n",
       "                        <td id=\"T_29375828_a5d4_11e9_84d6_105badb4dd80row1_col2\" class=\"data row1 col2\" >$13.56</td>\n",
       "            </tr>\n",
       "            <tr>\n",
       "                        <th id=\"T_29375828_a5d4_11e9_84d6_105badb4dd80level0_row2\" class=\"row_heading level0 row2\" >Mindimnya67</th>\n",
       "                        <td id=\"T_29375828_a5d4_11e9_84d6_105badb4dd80row2_col0\" class=\"data row2 col0\" >4</td>\n",
       "                        <td id=\"T_29375828_a5d4_11e9_84d6_105badb4dd80row2_col1\" class=\"data row2 col1\" >$3.18</td>\n",
       "                        <td id=\"T_29375828_a5d4_11e9_84d6_105badb4dd80row2_col2\" class=\"data row2 col2\" >$12.74</td>\n",
       "            </tr>\n",
       "            <tr>\n",
       "                        <th id=\"T_29375828_a5d4_11e9_84d6_105badb4dd80level0_row3\" class=\"row_heading level0 row3\" >Haellysu29</th>\n",
       "                        <td id=\"T_29375828_a5d4_11e9_84d6_105badb4dd80row3_col0\" class=\"data row3 col0\" >3</td>\n",
       "                        <td id=\"T_29375828_a5d4_11e9_84d6_105badb4dd80row3_col1\" class=\"data row3 col1\" >$4.24</td>\n",
       "                        <td id=\"T_29375828_a5d4_11e9_84d6_105badb4dd80row3_col2\" class=\"data row3 col2\" >$12.73</td>\n",
       "            </tr>\n",
       "            <tr>\n",
       "                        <th id=\"T_29375828_a5d4_11e9_84d6_105badb4dd80level0_row4\" class=\"row_heading level0 row4\" >Eoda93</th>\n",
       "                        <td id=\"T_29375828_a5d4_11e9_84d6_105badb4dd80row4_col0\" class=\"data row4 col0\" >3</td>\n",
       "                        <td id=\"T_29375828_a5d4_11e9_84d6_105badb4dd80row4_col1\" class=\"data row4 col1\" >$3.86</td>\n",
       "                        <td id=\"T_29375828_a5d4_11e9_84d6_105badb4dd80row4_col2\" class=\"data row4 col2\" >$11.58</td>\n",
       "            </tr>\n",
       "    </tbody></table>"
      ],
      "text/plain": [
       "<pandas.io.formats.style.Styler at 0x2352b577c50>"
      ]
     },
     "execution_count": 8,
     "metadata": {},
     "output_type": "execute_result"
    }
   ],
   "source": [
    "spender_stats = purchase_data.groupby(\"SN\")\n",
    "\n",
    "purchase_count_spender = spender_stats[\"Item ID\"].count()\n",
    "\n",
    "avg_purchase_price_spender = spender_stats[\"Price\"].mean()\n",
    "\n",
    "purchase_total_spender = spender_stats[\"Price\"].sum()\n",
    "\n",
    "top_spenders = pd.DataFrame({\"Purchase Count\": purchase_count_spender,\n",
    "                             \"Average Purchase Price\": avg_purchase_price_spender,\n",
    "                             \"Total Purchase Value\":purchase_total_spender})\n",
    "\n",
    "formatted_spenders = top_spenders.sort_values([\"Total Purchase Value\"], ascending=False).head()\n",
    "\n",
    "formatted_spenders.style.format({\"Average Purchase Total\":\"${:,.2f}\",\n",
    "                                 \"Average Purchase Price\":\"${:,.2f}\", \n",
    "                                 \"Total Purchase Value\":\"${:,.2f}\"})"
   ]
  },
  {
   "cell_type": "markdown",
   "metadata": {},
   "source": [
    "## Most Popular Items"
   ]
  },
  {
   "cell_type": "markdown",
   "metadata": {},
   "source": [
    "* Retrieve the Item ID, Item Name, and Item Price columns\n",
    "\n",
    "\n",
    "* Group by Item ID and Item Name. Perform calculations to obtain purchase count, item price, and total purchase value\n",
    "\n",
    "\n",
    "* Create a summary data frame to hold the results\n",
    "\n",
    "\n",
    "* Sort the purchase count column in descending order\n",
    "\n",
    "\n",
    "* Optional: give the displayed data cleaner formatting\n",
    "\n",
    "\n",
    "* Display a preview of the summary data frame\n",
    "\n"
   ]
  },
  {
   "cell_type": "code",
   "execution_count": 9,
   "metadata": {},
   "outputs": [
    {
     "data": {
      "text/html": [
       "<style  type=\"text/css\" >\n",
       "</style><table id=\"T_293cd698_a5d4_11e9_8221_105badb4dd80\" ><thead>    <tr>        <th class=\"blank\" ></th>        <th class=\"blank level0\" ></th>        <th class=\"col_heading level0 col0\" >Purchase Count</th>        <th class=\"col_heading level0 col1\" >Item Price</th>        <th class=\"col_heading level0 col2\" >Total Purchase Value</th>    </tr>    <tr>        <th class=\"index_name level0\" >Item ID</th>        <th class=\"index_name level1\" >Item Name</th>        <th class=\"blank\" ></th>        <th class=\"blank\" ></th>        <th class=\"blank\" ></th>    </tr></thead><tbody>\n",
       "                <tr>\n",
       "                        <th id=\"T_293cd698_a5d4_11e9_8221_105badb4dd80level0_row0\" class=\"row_heading level0 row0\" >39</th>\n",
       "                        <th id=\"T_293cd698_a5d4_11e9_8221_105badb4dd80level1_row0\" class=\"row_heading level1 row0\" >Betrayal, Whisper of Grieving Widows</th>\n",
       "                        <td id=\"T_293cd698_a5d4_11e9_8221_105badb4dd80row0_col0\" class=\"data row0 col0\" >11</td>\n",
       "                        <td id=\"T_293cd698_a5d4_11e9_8221_105badb4dd80row0_col1\" class=\"data row0 col1\" >$2.35</td>\n",
       "                        <td id=\"T_293cd698_a5d4_11e9_8221_105badb4dd80row0_col2\" class=\"data row0 col2\" >$25.85</td>\n",
       "            </tr>\n",
       "            <tr>\n",
       "                        <th id=\"T_293cd698_a5d4_11e9_8221_105badb4dd80level0_row1\" class=\"row_heading level0 row1\" >84</th>\n",
       "                        <th id=\"T_293cd698_a5d4_11e9_8221_105badb4dd80level1_row1\" class=\"row_heading level1 row1\" >Arcane Gem</th>\n",
       "                        <td id=\"T_293cd698_a5d4_11e9_8221_105badb4dd80row1_col0\" class=\"data row1 col0\" >11</td>\n",
       "                        <td id=\"T_293cd698_a5d4_11e9_8221_105badb4dd80row1_col1\" class=\"data row1 col1\" >$2.23</td>\n",
       "                        <td id=\"T_293cd698_a5d4_11e9_8221_105badb4dd80row1_col2\" class=\"data row1 col2\" >$24.53</td>\n",
       "            </tr>\n",
       "            <tr>\n",
       "                        <th id=\"T_293cd698_a5d4_11e9_8221_105badb4dd80level0_row2\" class=\"row_heading level0 row2\" >31</th>\n",
       "                        <th id=\"T_293cd698_a5d4_11e9_8221_105badb4dd80level1_row2\" class=\"row_heading level1 row2\" >Trickster</th>\n",
       "                        <td id=\"T_293cd698_a5d4_11e9_8221_105badb4dd80row2_col0\" class=\"data row2 col0\" >9</td>\n",
       "                        <td id=\"T_293cd698_a5d4_11e9_8221_105badb4dd80row2_col1\" class=\"data row2 col1\" >$2.07</td>\n",
       "                        <td id=\"T_293cd698_a5d4_11e9_8221_105badb4dd80row2_col2\" class=\"data row2 col2\" >$18.63</td>\n",
       "            </tr>\n",
       "            <tr>\n",
       "                        <th id=\"T_293cd698_a5d4_11e9_8221_105badb4dd80level0_row3\" class=\"row_heading level0 row3\" >175</th>\n",
       "                        <th id=\"T_293cd698_a5d4_11e9_8221_105badb4dd80level1_row3\" class=\"row_heading level1 row3\" >Woeful Adamantite Claymore</th>\n",
       "                        <td id=\"T_293cd698_a5d4_11e9_8221_105badb4dd80row3_col0\" class=\"data row3 col0\" >9</td>\n",
       "                        <td id=\"T_293cd698_a5d4_11e9_8221_105badb4dd80row3_col1\" class=\"data row3 col1\" >$1.24</td>\n",
       "                        <td id=\"T_293cd698_a5d4_11e9_8221_105badb4dd80row3_col2\" class=\"data row3 col2\" >$11.16</td>\n",
       "            </tr>\n",
       "            <tr>\n",
       "                        <th id=\"T_293cd698_a5d4_11e9_8221_105badb4dd80level0_row4\" class=\"row_heading level0 row4\" >13</th>\n",
       "                        <th id=\"T_293cd698_a5d4_11e9_8221_105badb4dd80level1_row4\" class=\"row_heading level1 row4\" >Serenity</th>\n",
       "                        <td id=\"T_293cd698_a5d4_11e9_8221_105badb4dd80row4_col0\" class=\"data row4 col0\" >9</td>\n",
       "                        <td id=\"T_293cd698_a5d4_11e9_8221_105badb4dd80row4_col1\" class=\"data row4 col1\" >$1.49</td>\n",
       "                        <td id=\"T_293cd698_a5d4_11e9_8221_105badb4dd80row4_col2\" class=\"data row4 col2\" >$13.41</td>\n",
       "            </tr>\n",
       "    </tbody></table>"
      ],
      "text/plain": [
       "<pandas.io.formats.style.Styler at 0x2352a6f5978>"
      ]
     },
     "execution_count": 9,
     "metadata": {},
     "output_type": "execute_result"
    }
   ],
   "source": [
    "items = purchase_data[[\"Item ID\", \"Item Name\", \"Price\"]]\n",
    "\n",
    "item_stats = items.groupby([\"Item ID\",\"Item Name\"])\n",
    "\n",
    "purchase_count_item = item_stats[\"Price\"].count()\n",
    "\n",
    "purchase_value = (item_stats[\"Price\"].sum()) \n",
    "\n",
    "item_price = purchase_value/purchase_count_item\n",
    "\n",
    "most_popular_items = pd.DataFrame({\"Purchase Count\": purchase_count_item, \n",
    "                                   \"Item Price\": item_price,\n",
    "                                   \"Total Purchase Value\":purchase_value})\n",
    "\n",
    "popular_formatted = most_popular_items.sort_values([\"Purchase Count\"], ascending=False).head()\n",
    "\n",
    "popular_formatted.style.format({\"Item Price\":\"${:,.2f}\",\n",
    "                                \"Total Purchase Value\":\"${:,.2f}\"})"
   ]
  },
  {
   "cell_type": "markdown",
   "metadata": {},
   "source": [
    "## Most Profitable Items"
   ]
  },
  {
   "cell_type": "markdown",
   "metadata": {},
   "source": [
    "* Sort the above table by total purchase value in descending order\n",
    "\n",
    "\n",
    "* Optional: give the displayed data cleaner formatting\n",
    "\n",
    "\n",
    "* Display a preview of the data frame\n",
    "\n"
   ]
  },
  {
   "cell_type": "code",
   "execution_count": 10,
   "metadata": {
    "scrolled": true
   },
   "outputs": [
    {
     "data": {
      "text/html": [
       "<style  type=\"text/css\" >\n",
       "</style><table id=\"T_29408068_a5d4_11e9_9a70_105badb4dd80\" ><thead>    <tr>        <th class=\"blank\" ></th>        <th class=\"blank level0\" ></th>        <th class=\"col_heading level0 col0\" >Purchase Count</th>        <th class=\"col_heading level0 col1\" >Item Price</th>        <th class=\"col_heading level0 col2\" >Total Purchase Value</th>    </tr>    <tr>        <th class=\"index_name level0\" >Item ID</th>        <th class=\"index_name level1\" >Item Name</th>        <th class=\"blank\" ></th>        <th class=\"blank\" ></th>        <th class=\"blank\" ></th>    </tr></thead><tbody>\n",
       "                <tr>\n",
       "                        <th id=\"T_29408068_a5d4_11e9_9a70_105badb4dd80level0_row0\" class=\"row_heading level0 row0\" >34</th>\n",
       "                        <th id=\"T_29408068_a5d4_11e9_9a70_105badb4dd80level1_row0\" class=\"row_heading level1 row0\" >Retribution Axe</th>\n",
       "                        <td id=\"T_29408068_a5d4_11e9_9a70_105badb4dd80row0_col0\" class=\"data row0 col0\" >9</td>\n",
       "                        <td id=\"T_29408068_a5d4_11e9_9a70_105badb4dd80row0_col1\" class=\"data row0 col1\" >$4.14</td>\n",
       "                        <td id=\"T_29408068_a5d4_11e9_9a70_105badb4dd80row0_col2\" class=\"data row0 col2\" >$37.26</td>\n",
       "            </tr>\n",
       "            <tr>\n",
       "                        <th id=\"T_29408068_a5d4_11e9_9a70_105badb4dd80level0_row1\" class=\"row_heading level0 row1\" >115</th>\n",
       "                        <th id=\"T_29408068_a5d4_11e9_9a70_105badb4dd80level1_row1\" class=\"row_heading level1 row1\" >Spectral Diamond Doomblade</th>\n",
       "                        <td id=\"T_29408068_a5d4_11e9_9a70_105badb4dd80row1_col0\" class=\"data row1 col0\" >7</td>\n",
       "                        <td id=\"T_29408068_a5d4_11e9_9a70_105badb4dd80row1_col1\" class=\"data row1 col1\" >$4.25</td>\n",
       "                        <td id=\"T_29408068_a5d4_11e9_9a70_105badb4dd80row1_col2\" class=\"data row1 col2\" >$29.75</td>\n",
       "            </tr>\n",
       "            <tr>\n",
       "                        <th id=\"T_29408068_a5d4_11e9_9a70_105badb4dd80level0_row2\" class=\"row_heading level0 row2\" >32</th>\n",
       "                        <th id=\"T_29408068_a5d4_11e9_9a70_105badb4dd80level1_row2\" class=\"row_heading level1 row2\" >Orenmir</th>\n",
       "                        <td id=\"T_29408068_a5d4_11e9_9a70_105badb4dd80row2_col0\" class=\"data row2 col0\" >6</td>\n",
       "                        <td id=\"T_29408068_a5d4_11e9_9a70_105badb4dd80row2_col1\" class=\"data row2 col1\" >$4.95</td>\n",
       "                        <td id=\"T_29408068_a5d4_11e9_9a70_105badb4dd80row2_col2\" class=\"data row2 col2\" >$29.70</td>\n",
       "            </tr>\n",
       "            <tr>\n",
       "                        <th id=\"T_29408068_a5d4_11e9_9a70_105badb4dd80level0_row3\" class=\"row_heading level0 row3\" >103</th>\n",
       "                        <th id=\"T_29408068_a5d4_11e9_9a70_105badb4dd80level1_row3\" class=\"row_heading level1 row3\" >Singed Scalpel</th>\n",
       "                        <td id=\"T_29408068_a5d4_11e9_9a70_105badb4dd80row3_col0\" class=\"data row3 col0\" >6</td>\n",
       "                        <td id=\"T_29408068_a5d4_11e9_9a70_105badb4dd80row3_col1\" class=\"data row3 col1\" >$4.87</td>\n",
       "                        <td id=\"T_29408068_a5d4_11e9_9a70_105badb4dd80row3_col2\" class=\"data row3 col2\" >$29.22</td>\n",
       "            </tr>\n",
       "            <tr>\n",
       "                        <th id=\"T_29408068_a5d4_11e9_9a70_105badb4dd80level0_row4\" class=\"row_heading level0 row4\" >107</th>\n",
       "                        <th id=\"T_29408068_a5d4_11e9_9a70_105badb4dd80level1_row4\" class=\"row_heading level1 row4\" >Splitter, Foe Of Subtlety</th>\n",
       "                        <td id=\"T_29408068_a5d4_11e9_9a70_105badb4dd80row4_col0\" class=\"data row4 col0\" >8</td>\n",
       "                        <td id=\"T_29408068_a5d4_11e9_9a70_105badb4dd80row4_col1\" class=\"data row4 col1\" >$3.61</td>\n",
       "                        <td id=\"T_29408068_a5d4_11e9_9a70_105badb4dd80row4_col2\" class=\"data row4 col2\" >$28.88</td>\n",
       "            </tr>\n",
       "    </tbody></table>"
      ],
      "text/plain": [
       "<pandas.io.formats.style.Styler at 0x2352b572ba8>"
      ]
     },
     "execution_count": 10,
     "metadata": {},
     "output_type": "execute_result"
    }
   ],
   "source": [
    "popular_formatted = most_popular_items.sort_values([\"Total Purchase Value\"],\n",
    "                                                   ascending=False).head()\n",
    "popular_formatted.style.format({\"Item Price\":\"${:,.2f}\",\n",
    "                                \"Total Purchase Value\":\"${:,.2f}\"})"
   ]
  },
  {
   "cell_type": "code",
   "execution_count": null,
   "metadata": {},
   "outputs": [],
   "source": []
  }
 ],
 "metadata": {
  "anaconda-cloud": {},
  "kernel_info": {
   "name": "python3"
  },
  "kernelspec": {
   "display_name": "Python 3",
   "language": "python",
   "name": "python3"
  },
  "language_info": {
   "codemirror_mode": {
    "name": "ipython",
    "version": 3
   },
   "file_extension": ".py",
   "mimetype": "text/x-python",
   "name": "python",
   "nbconvert_exporter": "python",
   "pygments_lexer": "ipython3",
   "version": "3.7.3"
  },
  "nteract": {
   "version": "0.2.0"
  },
  "widgets": {
   "application/vnd.jupyter.widget-state+json": {
    "state": {},
    "version_major": 2,
    "version_minor": 0
   }
  }
 },
 "nbformat": 4,
 "nbformat_minor": 2
}
